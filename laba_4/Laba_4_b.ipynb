{
  "nbformat": 4,
  "nbformat_minor": 0,
  "metadata": {
    "colab": {
      "name": "Laba_4_1.ipynb",
      "provenance": [],
      "collapsed_sections": []
    },
    "kernelspec": {
      "name": "python3",
      "display_name": "Python 3"
    },
    "language_info": {
      "name": "python"
    }
  },
  "cells": [
    {
      "cell_type": "code",
      "source": [
        "import numpy as np"
      ],
      "metadata": {
        "id": "6fvnqrOpOgix"
      },
      "execution_count": 24,
      "outputs": []
    },
    {
      "cell_type": "code",
      "source": [
        "def sortCloth(input_data, input_labels):\n",
        "  indexes = []\n",
        "  i = 0\n",
        "  data = []\n",
        "  labels = []\n",
        "  for label in input_labels:\n",
        "    if label == 9 or label == 2 or label == 6:\n",
        "      labels.append(label)\n",
        "      data.append(input_data[i])\n",
        "    i+=1\n",
        "  return (np.array(data), np.array(labels))"
      ],
      "metadata": {
        "id": "TlP9P6Tu5sXz"
      },
      "execution_count": 31,
      "outputs": []
    },
    {
      "cell_type": "code",
      "execution_count": 48,
      "metadata": {
        "id": "Yc_TfOMp2DnC",
        "colab": {
          "base_uri": "https://localhost:8080/"
        },
        "outputId": "9fad1a49-21b5-4e7e-d43d-2585a2b91239"
      },
      "outputs": [
        {
          "output_type": "stream",
          "name": "stdout",
          "text": [
            "18000 18000\n",
            "3000 3000\n"
          ]
        }
      ],
      "source": [
        "import tensorflow as tf\n",
        "import matplotlib.pyplot as plt\n",
        "from tensorflow.keras.datasets import fashion_mnist\n",
        "\n",
        "# The data has already been sorted into training and test sets for us\n",
        "(train_data, train_labels), (test_data, test_labels) = fashion_mnist.load_data()\n",
        "\n",
        "cloth_classes = { 9 : \"Ankle boot\", 2:\"Pullover\", 6:\"Shirt\"}\n",
        "\n",
        "(train_data,  train_labels) = sortCloth(train_data, train_labels)\n",
        "(test_data, test_labels) = sortCloth(test_data, test_labels)\n",
        "print(len(train_data), len(train_labels));\n",
        "print(len(test_data), len(test_labels));"
      ]
    },
    {
      "cell_type": "code",
      "source": [
        "# Divide train and test images by the maximum value (normalize it)\n",
        "train_data = train_data / 255.0\n",
        "test_data = test_data / 255.0\n",
        "\n",
        "# Check the min and max values of the training data\n",
        "train_data.min(), train_data.max()"
      ],
      "metadata": {
        "colab": {
          "base_uri": "https://localhost:8080/"
        },
        "id": "OV5sF0qKOKJn",
        "outputId": "5dbfd595-e72e-46d3-e4d8-6e4a45e30741"
      },
      "execution_count": 33,
      "outputs": [
        {
          "output_type": "execute_result",
          "data": {
            "text/plain": [
              "(0.0, 1.0)"
            ]
          },
          "metadata": {},
          "execution_count": 33
        }
      ]
    },
    {
      "cell_type": "code",
      "source": [
        "# Set random seed\n",
        "tf.random.set_seed(42)\n",
        "\n",
        "# Create the model\n",
        "model_13 = tf.keras.Sequential([\n",
        "  tf.keras.layers.Flatten(input_shape=(28, 28)), # input layer (we had to reshape 28x28 to 784)\n",
        "  tf.keras.layers.Dense(4, activation=\"relu\"),\n",
        "  tf.keras.layers.Dense(4, activation=\"relu\"),\n",
        "  tf.keras.layers.Dense(10, activation=\"softmax\") # output shape is 10, activation is softmax\n",
        "])\n",
        "\n",
        "# Compile the model\n",
        "model_13.compile(loss=tf.keras.losses.SparseCategoricalCrossentropy(),\n",
        "                 optimizer=tf.keras.optimizers.Adam(),\n",
        "                 metrics=[\"accuracy\"])\n",
        "\n",
        "# Create the learning rate callback\n",
        "lr_scheduler = tf.keras.callbacks.LearningRateScheduler(lambda epoch: 1e-3 * 10**(epoch/20))\n",
        "\n",
        "# Fit the model\n",
        "find_lr_history = model_13.fit(train_data,\n",
        "                               train_labels,\n",
        "                               epochs=40,\n",
        "                               validation_data=(test_data, test_labels),\n",
        "                               callbacks=[lr_scheduler])\n"
      ],
      "metadata": {
        "colab": {
          "base_uri": "https://localhost:8080/"
        },
        "id": "36p3AotI6-Nn",
        "outputId": "8bc24044-804e-4c3a-dfff-54d39d16be0f"
      },
      "execution_count": 34,
      "outputs": [
        {
          "output_type": "stream",
          "name": "stdout",
          "text": [
            "Epoch 1/40\n",
            "563/563 [==============================] - 2s 3ms/step - loss: 0.5848 - accuracy: 0.7441 - val_loss: 0.3382 - val_accuracy: 0.8583 - lr: 0.0010\n",
            "Epoch 2/40\n",
            "563/563 [==============================] - 1s 2ms/step - loss: 0.3011 - accuracy: 0.8758 - val_loss: 0.2972 - val_accuracy: 0.8767 - lr: 0.0011\n",
            "Epoch 3/40\n",
            "563/563 [==============================] - 2s 3ms/step - loss: 0.2679 - accuracy: 0.8894 - val_loss: 0.2728 - val_accuracy: 0.8863 - lr: 0.0013\n",
            "Epoch 4/40\n",
            "563/563 [==============================] - 2s 3ms/step - loss: 0.2551 - accuracy: 0.8932 - val_loss: 0.2644 - val_accuracy: 0.8893 - lr: 0.0014\n",
            "Epoch 5/40\n",
            "563/563 [==============================] - 1s 2ms/step - loss: 0.2482 - accuracy: 0.8952 - val_loss: 0.2633 - val_accuracy: 0.8867 - lr: 0.0016\n",
            "Epoch 6/40\n",
            "563/563 [==============================] - 1s 2ms/step - loss: 0.2425 - accuracy: 0.9004 - val_loss: 0.2584 - val_accuracy: 0.8917 - lr: 0.0018\n",
            "Epoch 7/40\n",
            "563/563 [==============================] - 1s 2ms/step - loss: 0.2438 - accuracy: 0.8991 - val_loss: 0.2740 - val_accuracy: 0.8860 - lr: 0.0020\n",
            "Epoch 8/40\n",
            "563/563 [==============================] - 1s 2ms/step - loss: 0.2390 - accuracy: 0.9016 - val_loss: 0.2677 - val_accuracy: 0.8860 - lr: 0.0022\n",
            "Epoch 9/40\n",
            "563/563 [==============================] - 1s 3ms/step - loss: 0.2352 - accuracy: 0.9035 - val_loss: 0.2850 - val_accuracy: 0.8820 - lr: 0.0025\n",
            "Epoch 10/40\n",
            "563/563 [==============================] - 1s 2ms/step - loss: 0.2341 - accuracy: 0.9037 - val_loss: 0.2475 - val_accuracy: 0.8983 - lr: 0.0028\n",
            "Epoch 11/40\n",
            "563/563 [==============================] - 1s 2ms/step - loss: 0.2337 - accuracy: 0.9049 - val_loss: 0.2721 - val_accuracy: 0.8853 - lr: 0.0032\n",
            "Epoch 12/40\n",
            "563/563 [==============================] - 1s 2ms/step - loss: 0.2321 - accuracy: 0.9024 - val_loss: 0.2450 - val_accuracy: 0.9010 - lr: 0.0035\n",
            "Epoch 13/40\n",
            "563/563 [==============================] - 1s 2ms/step - loss: 0.2336 - accuracy: 0.9029 - val_loss: 0.2442 - val_accuracy: 0.8980 - lr: 0.0040\n",
            "Epoch 14/40\n",
            "563/563 [==============================] - 1s 2ms/step - loss: 0.2335 - accuracy: 0.9031 - val_loss: 0.2510 - val_accuracy: 0.8913 - lr: 0.0045\n",
            "Epoch 15/40\n",
            "563/563 [==============================] - 1s 2ms/step - loss: 0.2268 - accuracy: 0.9077 - val_loss: 0.2707 - val_accuracy: 0.8850 - lr: 0.0050\n",
            "Epoch 16/40\n",
            "563/563 [==============================] - 1s 2ms/step - loss: 0.2271 - accuracy: 0.9051 - val_loss: 0.2978 - val_accuracy: 0.8673 - lr: 0.0056\n",
            "Epoch 17/40\n",
            "563/563 [==============================] - 1s 2ms/step - loss: 0.2269 - accuracy: 0.9040 - val_loss: 0.2487 - val_accuracy: 0.8950 - lr: 0.0063\n",
            "Epoch 18/40\n",
            "563/563 [==============================] - 1s 2ms/step - loss: 0.2202 - accuracy: 0.9087 - val_loss: 0.2311 - val_accuracy: 0.9003 - lr: 0.0071\n",
            "Epoch 19/40\n",
            "563/563 [==============================] - 1s 2ms/step - loss: 0.2237 - accuracy: 0.9052 - val_loss: 0.2390 - val_accuracy: 0.8983 - lr: 0.0079\n",
            "Epoch 20/40\n",
            "563/563 [==============================] - 1s 2ms/step - loss: 0.2171 - accuracy: 0.9083 - val_loss: 0.2751 - val_accuracy: 0.8810 - lr: 0.0089\n",
            "Epoch 21/40\n",
            "563/563 [==============================] - 1s 2ms/step - loss: 0.2113 - accuracy: 0.9097 - val_loss: 0.2283 - val_accuracy: 0.9013 - lr: 0.0100\n",
            "Epoch 22/40\n",
            "563/563 [==============================] - 1s 2ms/step - loss: 0.2115 - accuracy: 0.9091 - val_loss: 0.2443 - val_accuracy: 0.8990 - lr: 0.0112\n",
            "Epoch 23/40\n",
            "563/563 [==============================] - 1s 2ms/step - loss: 0.2101 - accuracy: 0.9098 - val_loss: 0.2287 - val_accuracy: 0.9017 - lr: 0.0126\n",
            "Epoch 24/40\n",
            "563/563 [==============================] - 1s 2ms/step - loss: 0.2142 - accuracy: 0.9087 - val_loss: 0.2382 - val_accuracy: 0.9013 - lr: 0.0141\n",
            "Epoch 25/40\n",
            "563/563 [==============================] - 1s 2ms/step - loss: 0.2210 - accuracy: 0.9070 - val_loss: 0.2427 - val_accuracy: 0.8977 - lr: 0.0158\n",
            "Epoch 26/40\n",
            "563/563 [==============================] - 1s 2ms/step - loss: 0.2147 - accuracy: 0.9093 - val_loss: 0.3152 - val_accuracy: 0.8620 - lr: 0.0178\n",
            "Epoch 27/40\n",
            "563/563 [==============================] - 1s 2ms/step - loss: 0.2122 - accuracy: 0.9111 - val_loss: 0.2549 - val_accuracy: 0.8987 - lr: 0.0200\n",
            "Epoch 28/40\n",
            "563/563 [==============================] - 1s 2ms/step - loss: 0.2330 - accuracy: 0.9037 - val_loss: 0.2395 - val_accuracy: 0.8940 - lr: 0.0224\n",
            "Epoch 29/40\n",
            "563/563 [==============================] - 1s 2ms/step - loss: 0.2196 - accuracy: 0.9076 - val_loss: 0.2420 - val_accuracy: 0.9003 - lr: 0.0251\n",
            "Epoch 30/40\n",
            "563/563 [==============================] - 1s 2ms/step - loss: 0.2145 - accuracy: 0.9106 - val_loss: 0.3236 - val_accuracy: 0.8513 - lr: 0.0282\n",
            "Epoch 31/40\n",
            "563/563 [==============================] - 1s 2ms/step - loss: 0.2293 - accuracy: 0.9051 - val_loss: 0.2424 - val_accuracy: 0.9007 - lr: 0.0316\n",
            "Epoch 32/40\n",
            "563/563 [==============================] - 1s 2ms/step - loss: 0.2337 - accuracy: 0.9058 - val_loss: 0.2417 - val_accuracy: 0.9053 - lr: 0.0355\n",
            "Epoch 33/40\n",
            "563/563 [==============================] - 1s 2ms/step - loss: 0.2331 - accuracy: 0.9066 - val_loss: 0.2333 - val_accuracy: 0.9053 - lr: 0.0398\n",
            "Epoch 34/40\n",
            "563/563 [==============================] - 1s 2ms/step - loss: 0.2239 - accuracy: 0.9105 - val_loss: 0.2494 - val_accuracy: 0.9043 - lr: 0.0447\n",
            "Epoch 35/40\n",
            "563/563 [==============================] - 1s 2ms/step - loss: 0.2422 - accuracy: 0.8996 - val_loss: 0.3015 - val_accuracy: 0.8997 - lr: 0.0501\n",
            "Epoch 36/40\n",
            "563/563 [==============================] - 1s 2ms/step - loss: 0.2778 - accuracy: 0.8929 - val_loss: 0.2715 - val_accuracy: 0.8893 - lr: 0.0562\n",
            "Epoch 37/40\n",
            "563/563 [==============================] - 1s 2ms/step - loss: 0.2609 - accuracy: 0.8982 - val_loss: 0.3249 - val_accuracy: 0.8530 - lr: 0.0631\n",
            "Epoch 38/40\n",
            "563/563 [==============================] - 1s 2ms/step - loss: 0.2857 - accuracy: 0.8842 - val_loss: 0.3115 - val_accuracy: 0.8950 - lr: 0.0708\n",
            "Epoch 39/40\n",
            "563/563 [==============================] - 1s 2ms/step - loss: 0.2702 - accuracy: 0.8919 - val_loss: 0.2898 - val_accuracy: 0.9047 - lr: 0.0794\n",
            "Epoch 40/40\n",
            "563/563 [==============================] - 1s 2ms/step - loss: 0.3521 - accuracy: 0.8793 - val_loss: 0.2701 - val_accuracy: 0.8967 - lr: 0.0891\n"
          ]
        }
      ]
    },
    {
      "cell_type": "code",
      "source": [
        "# Plot the learning rate decay curve\n",
        "import numpy as np\n",
        "import matplotlib.pyplot as plt\n",
        "lrs = 1e-3 * (10**(np.arange(40)/20))\n",
        "plt.semilogx(lrs, find_lr_history.history[\"loss\"]) # want the x-axis to be log-scale\n",
        "plt.xlabel(\"Learning rate\")\n",
        "plt.ylabel(\"Loss\")\n",
        "plt.title(\"Finding the ideal learning rate\");"
      ],
      "metadata": {
        "colab": {
          "base_uri": "https://localhost:8080/",
          "height": 299
        },
        "id": "SC4SysIfQsKx",
        "outputId": "e040e6c0-9bcf-478f-aed1-3f19d8048ea7"
      },
      "execution_count": 35,
      "outputs": [
        {
          "output_type": "display_data",
          "data": {
            "text/plain": [
              "<Figure size 432x288 with 1 Axes>"
            ],
            "image/png": "[encoded data removed]"
          },
          "metadata": {
            "needs_background": "light"
          }
        }
      ]
    },
    {
      "cell_type": "code",
      "source": [
        "# Set random seed\n",
        "tf.random.set_seed(42)\n",
        "\n",
        "# Create the model\n",
        "model_13 = tf.keras.Sequential([\n",
        "  tf.keras.layers.Flatten(input_shape=(28, 28)), # input layer (we had to reshape 28x28 to 784)\n",
        "  tf.keras.layers.Dense(4, activation=\"relu\"),\n",
        "  tf.keras.layers.Dense(4, activation=\"relu\"),\n",
        "  tf.keras.layers.Dense(10, activation=\"softmax\") # output shape is 10, activation is softmax\n",
        "])\n",
        "\n",
        "# Compile the model\n",
        "model_13.compile(loss=tf.keras.losses.SparseCategoricalCrossentropy(),\n",
        "                 optimizer=tf.keras.optimizers.Adam(learning_rate=0.001),\n",
        "                 metrics=[\"accuracy\"])\n",
        "\n",
        "# Create the learning rate callback\n",
        "lr_scheduler = tf.keras.callbacks.LearningRateScheduler(lambda epoch: 1e-3 * 10**(epoch/20))\n",
        "\n",
        "# Fit the model\n",
        "find_lr_history = model_13.fit(train_data,\n",
        "                               train_labels,\n",
        "                               epochs=20,\n",
        "                               validation_data=(test_data, test_labels),\n",
        "                               callbacks=[lr_scheduler])\n"
      ],
      "metadata": {
        "colab": {
          "base_uri": "https://localhost:8080/"
        },
        "id": "z0KRiIY4Rzr1",
        "outputId": "c719487a-1b21-4860-e709-c0545501d0ec"
      },
      "execution_count": 36,
      "outputs": [
        {
          "output_type": "stream",
          "name": "stdout",
          "text": [
            "Epoch 1/20\n",
            "563/563 [==============================] - 2s 3ms/step - loss: 0.5848 - accuracy: 0.7441 - val_loss: 0.3382 - val_accuracy: 0.8583 - lr: 0.0010\n",
            "Epoch 2/20\n",
            "563/563 [==============================] - 1s 2ms/step - loss: 0.3011 - accuracy: 0.8758 - val_loss: 0.2972 - val_accuracy: 0.8767 - lr: 0.0011\n",
            "Epoch 3/20\n",
            "563/563 [==============================] - 1s 2ms/step - loss: 0.2679 - accuracy: 0.8894 - val_loss: 0.2728 - val_accuracy: 0.8863 - lr: 0.0013\n",
            "Epoch 4/20\n",
            "563/563 [==============================] - 1s 2ms/step - loss: 0.2551 - accuracy: 0.8932 - val_loss: 0.2644 - val_accuracy: 0.8893 - lr: 0.0014\n",
            "Epoch 5/20\n",
            "563/563 [==============================] - 1s 2ms/step - loss: 0.2482 - accuracy: 0.8952 - val_loss: 0.2633 - val_accuracy: 0.8867 - lr: 0.0016\n",
            "Epoch 6/20\n",
            "563/563 [==============================] - 1s 2ms/step - loss: 0.2425 - accuracy: 0.9004 - val_loss: 0.2584 - val_accuracy: 0.8917 - lr: 0.0018\n",
            "Epoch 7/20\n",
            "563/563 [==============================] - 1s 2ms/step - loss: 0.2438 - accuracy: 0.8991 - val_loss: 0.2740 - val_accuracy: 0.8860 - lr: 0.0020\n",
            "Epoch 8/20\n",
            "563/563 [==============================] - 1s 2ms/step - loss: 0.2390 - accuracy: 0.9016 - val_loss: 0.2677 - val_accuracy: 0.8860 - lr: 0.0022\n",
            "Epoch 9/20\n",
            "563/563 [==============================] - 1s 2ms/step - loss: 0.2352 - accuracy: 0.9035 - val_loss: 0.2850 - val_accuracy: 0.8820 - lr: 0.0025\n",
            "Epoch 10/20\n",
            "563/563 [==============================] - 1s 3ms/step - loss: 0.2341 - accuracy: 0.9037 - val_loss: 0.2475 - val_accuracy: 0.8983 - lr: 0.0028\n",
            "Epoch 11/20\n",
            "563/563 [==============================] - 1s 2ms/step - loss: 0.2337 - accuracy: 0.9049 - val_loss: 0.2721 - val_accuracy: 0.8853 - lr: 0.0032\n",
            "Epoch 12/20\n",
            "563/563 [==============================] - 1s 2ms/step - loss: 0.2321 - accuracy: 0.9024 - val_loss: 0.2450 - val_accuracy: 0.9010 - lr: 0.0035\n",
            "Epoch 13/20\n",
            "563/563 [==============================] - 1s 2ms/step - loss: 0.2336 - accuracy: 0.9029 - val_loss: 0.2442 - val_accuracy: 0.8980 - lr: 0.0040\n",
            "Epoch 14/20\n",
            "563/563 [==============================] - 1s 2ms/step - loss: 0.2335 - accuracy: 0.9031 - val_loss: 0.2510 - val_accuracy: 0.8913 - lr: 0.0045\n",
            "Epoch 15/20\n",
            "563/563 [==============================] - 1s 2ms/step - loss: 0.2268 - accuracy: 0.9077 - val_loss: 0.2707 - val_accuracy: 0.8850 - lr: 0.0050\n",
            "Epoch 16/20\n",
            "563/563 [==============================] - 1s 2ms/step - loss: 0.2271 - accuracy: 0.9051 - val_loss: 0.2978 - val_accuracy: 0.8673 - lr: 0.0056\n",
            "Epoch 17/20\n",
            "563/563 [==============================] - 1s 2ms/step - loss: 0.2269 - accuracy: 0.9040 - val_loss: 0.2487 - val_accuracy: 0.8950 - lr: 0.0063\n",
            "Epoch 18/20\n",
            "563/563 [==============================] - 1s 2ms/step - loss: 0.2202 - accuracy: 0.9087 - val_loss: 0.2311 - val_accuracy: 0.9003 - lr: 0.0071\n",
            "Epoch 19/20\n",
            "563/563 [==============================] - 1s 2ms/step - loss: 0.2237 - accuracy: 0.9052 - val_loss: 0.2390 - val_accuracy: 0.8983 - lr: 0.0079\n",
            "Epoch 20/20\n",
            "563/563 [==============================] - 1s 2ms/step - loss: 0.2171 - accuracy: 0.9083 - val_loss: 0.2751 - val_accuracy: 0.8810 - lr: 0.0089\n"
          ]
        }
      ]
    },
    {
      "cell_type": "code",
      "source": [
        "# Note: The following confusion matrix code is a remix of Scikit-Learn's \n",
        "# plot_confusion_matrix function - https://scikit-learn.org/stable/modules/generated/sklearn.metrics.plot_confusion_matrix.html\n",
        "# and Made with ML's introductory notebook - https://github.com/GokuMohandas/MadeWithML/blob/main/notebooks/08_Neural_Networks.ipynb\n",
        "import itertools\n",
        "from sklearn.metrics import confusion_matrix\n",
        "\n",
        "# Our function needs a different name to sklearn's plot_confusion_matrix\n",
        "def make_confusion_matrix(y_true, y_pred, classes=None, figsize=(10, 10), text_size=15): \n",
        "  \"\"\"Makes a labelled confusion matrix comparing predictions and ground truth labels.\n",
        "\n",
        "  If classes is passed, confusion matrix will be labelled, if not, integer class values\n",
        "  will be used.\n",
        "\n",
        "  Args:\n",
        "    y_true: Array of truth labels (must be same shape as y_pred).\n",
        "    y_pred: Array of predicted labels (must be same shape as y_true).\n",
        "    classes: Array of class labels (e.g. string form). If `None`, integer labels are used.\n",
        "    figsize: Size of output figure (default=(10, 10)).\n",
        "    text_size: Size of output figure text (default=15).\n",
        "  \n",
        "  Returns:\n",
        "    A labelled confusion matrix plot comparing y_true and y_pred.\n",
        "\n",
        "  Example usage:\n",
        "    make_confusion_matrix(y_true=test_labels, # ground truth test labels\n",
        "                          y_pred=y_preds, # predicted labels\n",
        "                          classes=class_names, # array of class label names\n",
        "                          figsize=(15, 15),\n",
        "                          text_size=10)\n",
        "  \"\"\"  \n",
        "  # Create the confustion matrix\n",
        "  cm = confusion_matrix(y_true, y_pred)\n",
        "  cm_norm = cm.astype(\"float\") / cm.sum(axis=1)[:, np.newaxis] # normalize it\n",
        "  n_classes = cm.shape[0] # find the number of classes we're dealing with\n",
        "\n",
        "  # Plot the figure and make it pretty\n",
        "  fig, ax = plt.subplots(figsize=figsize)\n",
        "  cax = ax.matshow(cm, cmap=plt.cm.Blues) # colors will represent how 'correct' a class is, darker == better\n",
        "  fig.colorbar(cax)\n",
        "\n",
        "  # Are there a list of classes?\n",
        "  if classes:\n",
        "    labels = classes\n",
        "  else:\n",
        "    labels = np.arange(cm.shape[0])\n",
        "  \n",
        "  # Label the axes\n",
        "  ax.set(title=\"Confusion Matrix\",\n",
        "         xlabel=\"Predicted label\",\n",
        "         ylabel=\"True label\",\n",
        "         xticks=np.arange(n_classes), # create enough axis slots for each class\n",
        "         yticks=np.arange(n_classes), \n",
        "         xticklabels=labels, # axes will labeled with class names (if they exist) or ints\n",
        "         yticklabels=labels)\n",
        "  \n",
        "  # Make x-axis labels appear on bottom\n",
        "  ax.xaxis.set_label_position(\"bottom\")\n",
        "  ax.xaxis.tick_bottom()\n",
        "\n",
        "  # Set the threshold for different colors\n",
        "  threshold = (cm.max() + cm.min()) / 2.\n",
        "\n",
        "  # Plot the text on each cell\n",
        "  for i, j in itertools.product(range(cm.shape[0]), range(cm.shape[1])):\n",
        "    plt.text(j, i, f\"{cm[i, j]} ({cm_norm[i, j]*100:.1f}%)\",\n",
        "             horizontalalignment=\"center\",\n",
        "             color=\"white\" if cm[i, j] > threshold else \"black\",\n",
        "             size=text_size)"
      ],
      "metadata": {
        "id": "fM_G0WCCSTgW"
      },
      "execution_count": 37,
      "outputs": []
    },
    {
      "cell_type": "code",
      "source": [
        "# Make predictions with the most recent model\n",
        "y_probs = model_13.predict(test_data) # \"probs\" is short for probabilities\n",
        "\n",
        "# See the predicted class number and label for the first example\n",
        "y_probs[250].argmax(), cloth_classes[y_probs[250].argmax()]"
      ],
      "metadata": {
        "colab": {
          "base_uri": "https://localhost:8080/"
        },
        "id": "ZOb9gtINSWOh",
        "outputId": "1f6b4d46-0627-420d-f45a-04119026998f"
      },
      "execution_count": 50,
      "outputs": [
        {
          "output_type": "execute_result",
          "data": {
            "text/plain": [
              "(2, 'Pullover')"
            ]
          },
          "metadata": {},
          "execution_count": 50
        }
      ]
    },
    {
      "cell_type": "code",
      "source": [
        "plt.imshow(test_data[250], cmap=plt.cm.binary)"
      ],
      "metadata": {
        "colab": {
          "base_uri": "https://localhost:8080/",
          "height": 282
        },
        "id": "zuz1bW6mUVc6",
        "outputId": "f3f85d8f-6061-4ebe-9a94-fce986855407"
      },
      "execution_count": 51,
      "outputs": [
        {
          "output_type": "execute_result",
          "data": {
            "text/plain": [
              "<matplotlib.image.AxesImage at 0x7f0b3a2e0690>"
            ]
          },
          "metadata": {},
          "execution_count": 51
        },
        {
          "output_type": "display_data",
          "data": {
            "text/plain": [
              "<Figure size 432x288 with 1 Axes>"
            ],
            "image/png": "[encoded data removed]"
          },
          "metadata": {
            "needs_background": "light"
          }
        }
      ]
    },
    {
      "cell_type": "code",
      "source": [
        "# Convert all of the predictions from probabilities to labels\n",
        "y_preds = y_probs.argmax(axis=1)\n",
        "\n",
        "# Make a prettier confusion matrix\n",
        "make_confusion_matrix(y_true=test_labels, \n",
        "                      y_pred=y_preds,\n",
        "                      classes=cloth_classes.values(),\n",
        "                      figsize=(15, 15),\n",
        "                      text_size=10)"
      ],
      "metadata": {
        "colab": {
          "base_uri": "https://localhost:8080/",
          "height": 852
        },
        "id": "pNbsk6wxUjYy",
        "outputId": "481c46ba-c040-4e26-fb9c-5e61d43112ec"
      },
      "execution_count": 53,
      "outputs": [
        {
          "output_type": "display_data",
          "data": {
            "text/plain": [
              "<Figure size 1080x1080 with 2 Axes>"
            ],
            "image/png": "[encoded data removed]"
          },
          "metadata": {
            "needs_background": "light"
          }
        }
      ]
    }
  ]
}